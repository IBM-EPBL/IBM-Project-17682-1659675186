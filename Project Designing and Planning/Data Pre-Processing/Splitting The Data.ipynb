{
  "nbformat": 4,
  "nbformat_minor": 0,
  "metadata": {
    "colab": {
      "provenance": [],
      "collapsed_sections": []
    },
    "kernelspec": {
      "name": "python3",
      "display_name": "Python 3"
    },
    "language_info": {
      "name": "python"
    }
  },
  "cells": [
    {
      "cell_type": "markdown",
      "source": [
        "# **Importing the libraries**"
      ],
      "metadata": {
        "id": "hCGAqxSVxPkc"
      }
    },
    {
      "cell_type": "code",
      "source": [
        "import pandas as pd\n",
        "import numpy as np\n",
        "import matplotlib.pyplot as plt\n",
        "import seaborn as sns\n",
        "%matplotlib inline"
      ],
      "metadata": {
        "id": "q0bVSaEDxP0-"
      },
      "execution_count": 3,
      "outputs": []
    },
    {
      "cell_type": "code",
      "source": [
        "from sklearn.preprocessing import MinMaxScaler\n",
        "from sklearn.metrics import confusion_matrix,accuracy_score"
      ],
      "metadata": {
        "id": "ZmlBQOElxwnM"
      },
      "execution_count": 4,
      "outputs": []
    },
    {
      "cell_type": "markdown",
      "source": [
        "# **Splitting The Data**"
      ],
      "metadata": {
        "id": "Q4fQ_6SJ1YQi"
      }
    },
    {
      "cell_type": "markdown",
      "source": [
        "# **SPLIT THE DATA INTO INDEPENDENT VARIABLES**"
      ],
      "metadata": {
        "id": "WP_4Gbv73LwJ"
      }
    },
    {
      "cell_type": "code",
      "source": [
        "X = DS.iloc[:, :-1].values\n",
        "print(X)"
      ],
      "metadata": {
        "colab": {
          "base_uri": "https://localhost:8080/"
        },
        "id": "zSZR1PXa2rbS",
        "outputId": "010384bc-a44f-4f3e-8b04-f86894cf21a0"
      },
      "execution_count": 13,
      "outputs": [
        {
          "output_type": "stream",
          "name": "stdout",
          "text": [
            "[[    1    -1     1 ...     1     1    -1]\n",
            " [    2     1     1 ...     1     1     1]\n",
            " [    3     1     0 ...     1     0    -1]\n",
            " ...\n",
            " [11053     1    -1 ...     1     0     1]\n",
            " [11054    -1    -1 ...     1     1     1]\n",
            " [11055    -1    -1 ...    -1     1    -1]]\n"
          ]
        }
      ]
    },
    {
      "cell_type": "markdown",
      "source": [
        "# **SPLIT THE DATA INTO DEPENDENT VARIABLES**"
      ],
      "metadata": {
        "id": "a32Z869_3Twx"
      }
    },
    {
      "cell_type": "code",
      "source": [
        "import pandas as pd\n",
        "from sklearn.preprocessing import MinMaxScaler\n",
        "scaler = MinMaxScaler()\n",
        "DS[[\"port\"]] = scaler.fit_transform(DS[[\"port\"]])\n",
        "  \n",
        "print(DS)"
      ],
      "metadata": {
        "colab": {
          "base_uri": "https://localhost:8080/"
        },
        "id": "Okqgt49j27Nx",
        "outputId": "69db4030-0516-484a-97a7-afae8afa2ca9"
      },
      "execution_count": 15,
      "outputs": [
        {
          "output_type": "stream",
          "name": "stdout",
          "text": [
            "       index  having_IPhaving_IP_Address  URLURL_Length  Shortining_Service  \\\n",
            "0          1                          -1              1                   1   \n",
            "1          2                           1              1                   1   \n",
            "2          3                           1              0                   1   \n",
            "3          4                           1              0                   1   \n",
            "4          5                           1              0                  -1   \n",
            "...      ...                         ...            ...                 ...   \n",
            "11050  11051                           1             -1                   1   \n",
            "11051  11052                          -1              1                   1   \n",
            "11052  11053                           1             -1                   1   \n",
            "11053  11054                          -1             -1                   1   \n",
            "11054  11055                          -1             -1                   1   \n",
            "\n",
            "       having_At_Symbol  double_slash_redirecting  Prefix_Suffix  \\\n",
            "0                     1                        -1             -1   \n",
            "1                     1                         1             -1   \n",
            "2                     1                         1             -1   \n",
            "3                     1                         1             -1   \n",
            "4                     1                         1             -1   \n",
            "...                 ...                       ...            ...   \n",
            "11050                -1                         1              1   \n",
            "11051                -1                        -1             -1   \n",
            "11052                 1                         1             -1   \n",
            "11053                 1                         1             -1   \n",
            "11054                 1                         1             -1   \n",
            "\n",
            "       having_Sub_Domain  SSLfinal_State  Domain_registeration_length  ...  \\\n",
            "0                     -1              -1                           -1  ...   \n",
            "1                      0               1                           -1  ...   \n",
            "2                     -1              -1                           -1  ...   \n",
            "3                     -1              -1                            1  ...   \n",
            "4                      1               1                           -1  ...   \n",
            "...                  ...             ...                          ...  ...   \n",
            "11050                  1               1                           -1  ...   \n",
            "11051                  1              -1                           -1  ...   \n",
            "11052                  1              -1                           -1  ...   \n",
            "11053                 -1              -1                            1  ...   \n",
            "11054                 -1              -1                            1  ...   \n",
            "\n",
            "       popUpWidnow  Iframe  age_of_domain  DNSRecord  web_traffic  Page_Rank  \\\n",
            "0                1       1             -1         -1           -1         -1   \n",
            "1                1       1             -1         -1            0         -1   \n",
            "2                1       1              1         -1            1         -1   \n",
            "3                1       1             -1         -1            1         -1   \n",
            "4               -1       1             -1         -1            0         -1   \n",
            "...            ...     ...            ...        ...          ...        ...   \n",
            "11050           -1      -1              1          1           -1         -1   \n",
            "11051           -1       1              1          1            1          1   \n",
            "11052            1       1              1          1            1         -1   \n",
            "11053           -1       1              1          1            1         -1   \n",
            "11054            1       1             -1          1           -1         -1   \n",
            "\n",
            "       Google_Index  Links_pointing_to_page  Statistical_report  Result  \n",
            "0                 1                       1                  -1      -1  \n",
            "1                 1                       1                   1      -1  \n",
            "2                 1                       0                  -1      -1  \n",
            "3                 1                      -1                   1      -1  \n",
            "4                 1                       1                   1       1  \n",
            "...             ...                     ...                 ...     ...  \n",
            "11050             1                       1                   1       1  \n",
            "11051             1                      -1                   1      -1  \n",
            "11052             1                       0                   1      -1  \n",
            "11053             1                       1                   1      -1  \n",
            "11054            -1                       1                  -1      -1  \n",
            "\n",
            "[11055 rows x 32 columns]\n"
          ]
        }
      ]
    }
  ]
}